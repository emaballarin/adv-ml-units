{
 "cells": [
  {
   "cell_type": "markdown",
   "source": [
    "# [Solved] Lab 7: **Geometric Deep Learning** and *permutation equivariance*\n",
    "\n",
    "Advanced Topics in Machine Learning -- Fall 2023, UniTS\n",
    "\n",
    "<a target=\"_blank\" href=\"https://colab.research.google.com/github/ganselmif/adv-ml-units/blob/main/solutions/AdvML_UniTS_2023_Lab_07_Permutation_Equivariance_Solved.ipynb\"><img src=\"https://colab.research.google.com/assets/colab-badge.svg\" alt=\"Open in Colab\"/></a>\n"
   ],
   "metadata": {
    "collapsed": false
   }
  },
  {
   "cell_type": "markdown",
   "source": [
    "#### Geometric Deep Learning\n",
    "\n",
    "The nowadays popular and growing subfield of *Geometric Deep Learning* is concerned with the study of deep learning models explicitly designed to learn representations that are invariant/equivariant to certain transformations. Such goal is very often achieved thanks to a *deeper* understanding of the mathematical properties of data, representations, and how a given model is able to capture them."
   ],
   "metadata": {
    "collapsed": false
   }
  },
  {
   "cell_type": "markdown",
   "source": [
    "#### *Deep Sets* and *permutation equivariance*\n",
    "\n",
    "In this lab, we will focus on a very simple mathematical construction, introduced in the [*Deep Sets* paper (2017)](https://arxiv.org/abs/1703.06114), able to exhibit in theory *permutation equivariance* with respect to input data, by design. Reading the paper is strongly recommended before starting this lab.\n",
    "\n",
    "Recall the *permutation equivariance* property, as stated in the paper:\n",
    "\n",
    "![](./img/perm_equi.png)\n",
    "\n",
    "with $f$ being the model, $x$ a set of input data, and $\\pi$ a permutation of the indices.\n",
    "\n",
    "1. Implement such function (you can use *plain* `NumPy` !), as described in the following  snippet from the paper:\n",
    "![](./img/perm_equi_th.png)\n",
    "\n",
    "2. Check that the function is indeed permutation equivariant, applying it on synthetic data (you can generate them yourself), as we did in the previous lab(s) with images.\n"
   ],
   "metadata": {
    "collapsed": false
   }
  },
  {
   "cell_type": "code",
   "execution_count": 1,
   "outputs": [],
   "source": [
    "import functools\n",
    "import numpy as np"
   ],
   "metadata": {
    "collapsed": false,
    "ExecuteTime": {
     "end_time": "2023-09-17T01:14:05.214987Z",
     "start_time": "2023-09-17T01:14:05.138265400Z"
    }
   }
  },
  {
   "cell_type": "code",
   "execution_count": 2,
   "outputs": [],
   "source": [
    "def theta(_xshape, _lambda, _gamma):\n",
    "    return _lambda * np.eye(_xshape) + _gamma * np.ones((_xshape, _xshape))\n",
    "\n",
    "\n",
    "def mish(_x):\n",
    "    return _x * np.tanh(np.log(1 + np.exp(_x)))\n",
    "\n",
    "\n",
    "def f(_x, _lambda=1, _gamma=1):\n",
    "    out = np.matmul(_x, theta(_x.shape[0], _lambda, _gamma))\n",
    "    return mish(out)  # Any nonlinearity suffices! :)"
   ],
   "metadata": {
    "collapsed": false,
    "ExecuteTime": {
     "end_time": "2023-09-17T01:14:05.228250500Z",
     "start_time": "2023-09-17T01:14:05.218063700Z"
    }
   }
  },
  {
   "cell_type": "code",
   "execution_count": 3,
   "outputs": [],
   "source": [
    "# Generate some data\n",
    "xsize = 200\n",
    "nperms = 200\n",
    "\n",
    "xlist = [\n",
    "    np.random.rand(xsize),\n",
    "]\n",
    "for _ in range(nperms - 1):\n",
    "    xlist.append(np.random.permutation(xlist[0]))\n",
    "\n",
    "x = np.stack(xlist)"
   ],
   "metadata": {
    "collapsed": false,
    "ExecuteTime": {
     "end_time": "2023-09-17T01:14:05.240813700Z",
     "start_time": "2023-09-17T01:14:05.218063700Z"
    }
   }
  },
  {
   "cell_type": "code",
   "execution_count": 4,
   "outputs": [],
   "source": [
    "# Apply function\n",
    "newf = functools.partial(f, _lambda=0.25, _gamma=0.4)\n",
    "y = np.apply_along_axis(newf, 1, x)"
   ],
   "metadata": {
    "collapsed": false,
    "ExecuteTime": {
     "end_time": "2023-09-17T01:14:05.290007100Z",
     "start_time": "2023-09-17T01:14:05.246223500Z"
    }
   }
  },
  {
   "cell_type": "code",
   "execution_count": 5,
   "outputs": [
    {
     "name": "stdout",
     "output_type": "stream",
     "text": [
      "Success!\n"
     ]
    }
   ],
   "source": [
    "ysorted = np.sort(y, axis=1)\n",
    "if np.isclose(ysorted[0], ysorted).all():\n",
    "    print(\"Success!\")"
   ],
   "metadata": {
    "collapsed": false,
    "ExecuteTime": {
     "end_time": "2023-09-17T01:14:05.290007100Z",
     "start_time": "2023-09-17T01:14:05.278363400Z"
    }
   }
  }
 ],
 "metadata": {
  "kernelspec": {
   "display_name": "Python 3",
   "language": "python",
   "name": "python3"
  },
  "language_info": {
   "codemirror_mode": {
    "name": "ipython",
    "version": 2
   },
   "file_extension": ".py",
   "mimetype": "text/x-python",
   "name": "python",
   "nbconvert_exporter": "python",
   "pygments_lexer": "ipython2",
   "version": "2.7.6"
  }
 },
 "nbformat": 4,
 "nbformat_minor": 0
}
