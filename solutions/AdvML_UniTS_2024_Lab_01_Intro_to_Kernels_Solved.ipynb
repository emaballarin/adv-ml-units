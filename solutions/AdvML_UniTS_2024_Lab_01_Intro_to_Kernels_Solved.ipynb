{
 "cells": [
  {
   "cell_type": "markdown",
   "metadata": {},
   "source": [
    "# [Solved] Lab 1: **Kernels** and **features**\n",
    "\n",
    "Advanced Topics in Machine Learning -- Fall 2023, UniTS\n",
    "\n",
    "<a target=\"_blank\" href=\"https://colab.research.google.com/github/ganselmif/adv-ml-units/blob/main/solutions/AdvML_UniTS_2023_Lab_01_Intro_to_Kernels_Solved.ipynb\"><img src=\"https://colab.research.google.com/assets/colab-badge.svg\" alt=\"Open in Colab\"/></a>"
   ]
  },
  {
   "cell_type": "markdown",
   "metadata": {},
   "source": [
    "### Empirical verification of the *Kernel* $\\leftrightarrow$ *feature expansion* equivalence\n",
    "\n",
    "Recall the definition of a *kernel*:\n",
    "> Let $\\mathcal{X}$ be a non-empty set. A function $k: \\mathcal{X} \\times \\mathcal{X} \\rightarrow \\mathbb{R}$ is called a *kernel* if there exists a real-Hilbert space $\\mathcal{H}$ and a map $\\phi: \\mathcal{X} \\rightarrow \\mathcal{H}$ such that $\\forall x, x^\\prime \\in \\mathcal{X}$, $k(x, x^\\prime) := \\langle \\phi(x) , \\phi(x^\\prime) \\rangle_{\\mathcal{H}}$.\n",
    "\n",
    "To motivate the usefulness of kernelized ML methods, we can show that -- for $x\\in\\mathbb{R}^{d \\in \\mathbb{N}}$ -- the computation of $k(x, x^\\prime)$ in kernel form is equivalent to the explicit scalar product $\\langle \\varphi(x) , \\varphi(x^\\prime) \\rangle = \\varphi(x)^{T} \\varphi(x^\\prime)$ of some corresponding expanded feature maps $\\varphi: {R}^{d} \\rightarrow \\mathbb{R}^{d^\\prime}$ with generally $d^\\prime \\gg d$ (or even *infinite-dimensional* $\\varphi$s), though significantly simpler and more efficient to compute.\n",
    "\n",
    "In the lab that follows, verify such equivalence for simple kernels: the non-uniform *quadratic* (in $\\mathbb{R}^{d}$) and the *Gaussian* (in $\\mathbb{R}$).\n",
    "\n",
    "For each kernel:\n",
    "\n",
    "1. Implement a function that computes the kernel between two arrays of coordinates;\n",
    "2. Derive the explicit feature map $\\varphi(x)$ corresponding to that kernel;\n",
    "3. Implement a function that computes such feature map for a given array of coordinates;\n",
    "4. Verify that the kernel computed by (1) and the scalar product of its arguments through (3) are indeed equivalent.\n",
    "\n",
    "**Hint**: in case of need, you can finitely approximate the feature map by Taylor expansion.\n"
   ]
  },
  {
   "cell_type": "code",
   "execution_count": 1,
   "outputs": [],
   "source": [
    "import itertools\n",
    "import math\n",
    "import numpy as np"
   ],
   "metadata": {
    "collapsed": false,
    "ExecuteTime": {
     "end_time": "2023-09-16T22:40:35.639481Z",
     "start_time": "2023-09-16T22:40:35.409551900Z"
    }
   }
  },
  {
   "cell_type": "code",
   "execution_count": 2,
   "metadata": {
    "ExecuteTime": {
     "end_time": "2023-09-16T22:40:35.656220600Z",
     "start_time": "2023-09-16T22:40:35.656220600Z"
    }
   },
   "outputs": [],
   "source": [
    "def nu_quadratic_kernel(x, x_prime):\n",
    "    \"\"\"Compute the non-uniform quadratic kernel between two arrays of coordinates.\n",
    "\n",
    "    Parameters\n",
    "    ----------\n",
    "    x : array-like, shape: (n_features)\n",
    "        First array of coordinates.\n",
    "    x_prime : array-like, shape: (n_features)\n",
    "        Second array of coordinates.\n",
    "\n",
    "    Returns\n",
    "    -------\n",
    "    k : array-like, shape: (1)\n",
    "        Kernel value.\n",
    "    \"\"\"\n",
    "\n",
    "    x, x_prime = np.asarray(x), np.asarray(\n",
    "        x_prime\n",
    "    )  # Always a good practice; almost overhead-free.\n",
    "    return (1 + np.dot(x, x_prime)) ** 2"
   ]
  },
  {
   "cell_type": "code",
   "execution_count": 3,
   "metadata": {
    "ExecuteTime": {
     "end_time": "2023-09-16T22:40:35.656220600Z",
     "start_time": "2023-09-16T22:40:35.656220600Z"
    }
   },
   "outputs": [],
   "source": [
    "def nu_quadratic_feature_map(x):\n",
    "    \"\"\"Compute the feature map corresponding to the non-uniform quadratic kernel.\n",
    "\n",
    "    Parameters\n",
    "    ----------\n",
    "    x : array-like, shape: (n_features)\n",
    "        Array of coordinates.\n",
    "\n",
    "    Returns\n",
    "    -------\n",
    "    phi_x : array-like, shape: (n_features)\n",
    "        Feature map.\n",
    "    \"\"\"\n",
    "\n",
    "    x = np.asarray(x)\n",
    "\n",
    "    # Mixed products\n",
    "    mixed = np.asarray(\n",
    "        [\n",
    "            math.sqrt(2) * x[i] * x[j]\n",
    "            for i, j in itertools.combinations(range(len(x)), 2)\n",
    "        ]\n",
    "    )\n",
    "\n",
    "    return np.concatenate((np.asarray([1]), math.sqrt(2) * x, x**2, mixed))"
   ]
  },
  {
   "cell_type": "code",
   "execution_count": 4,
   "metadata": {
    "ExecuteTime": {
     "end_time": "2023-09-16T22:40:35.672014800Z",
     "start_time": "2023-09-16T22:40:35.657835700Z"
    }
   },
   "outputs": [
    {
     "name": "stdout",
     "output_type": "stream",
     "text": [
      "Success!\n"
     ]
    }
   ],
   "source": [
    "# Check the equivalence on randomly-initialized arrays\n",
    "\n",
    "v = np.random.randn(100)\n",
    "u = np.random.randn(100)\n",
    "\n",
    "kernel_val = nu_quadratic_kernel(v, u)\n",
    "feature_map_val = nu_quadratic_feature_map(v).dot(nu_quadratic_feature_map(u))\n",
    "\n",
    "if np.allclose(kernel_val, feature_map_val):\n",
    "    print(\"Success!\")"
   ]
  },
  {
   "cell_type": "code",
   "execution_count": 5,
   "metadata": {
    "ExecuteTime": {
     "end_time": "2023-09-16T22:40:35.679547Z",
     "start_time": "2023-09-16T22:40:35.673021100Z"
    }
   },
   "outputs": [],
   "source": [
    "def gaussian_kernel(x, x_prime, sigma):\n",
    "    \"\"\"Compute the Gaussian kernel between two arrays of coordinates.\n",
    "\n",
    "    Parameters\n",
    "    ----------\n",
    "    x : array-like, shape: (n_features)\n",
    "        First array of coordinates.\n",
    "    x_prime : array-like, shape: (n_features)\n",
    "        Second array of coordinates.\n",
    "    sigma : float\n",
    "        Kernel standard deviation.\n",
    "\n",
    "    Returns\n",
    "    -------\n",
    "    k : array-like, shape: (1)\n",
    "        Kernel value.\n",
    "    \"\"\"\n",
    "\n",
    "    x, x_prime = np.asarray(x), np.asarray(x_prime)\n",
    "    return np.exp(-((x - x_prime) ** 2) / (2 * sigma**2))"
   ]
  },
  {
   "cell_type": "code",
   "execution_count": 6,
   "metadata": {
    "ExecuteTime": {
     "end_time": "2023-09-16T22:40:35.687066700Z",
     "start_time": "2023-09-16T22:40:35.673021100Z"
    }
   },
   "outputs": [],
   "source": [
    "def gaussian_feature_map(x, sigma, approx_order=100):\n",
    "    \"\"\"Compute the feature map corresponding to the Gaussian kernel.\n",
    "\n",
    "    Parameters\n",
    "    ----------\n",
    "    x : array-like, shape: (n_features)\n",
    "        Array of coordinates.\n",
    "    sigma : float\n",
    "        Kernel standard deviation.\n",
    "    approx_order : int, optional (default=100)\n",
    "        Order of the Taylor expansion used to approximate the feature map.\n",
    "\n",
    "    Returns\n",
    "    -------\n",
    "    phi_x : array-like, shape: (n_features)\n",
    "        Feature map.\n",
    "    \"\"\"\n",
    "\n",
    "    x = np.asarray(x)\n",
    "\n",
    "    common_factor = np.exp(-(x**2) / (2 * sigma**2))\n",
    "\n",
    "    taylor = (\n",
    "        common_factor\n",
    "        * np.asarray(\n",
    "            [\n",
    "                (x / sigma) ** i / math.sqrt(math.factorial(i))\n",
    "                for i in range(approx_order)\n",
    "            ]\n",
    "        ).flatten()\n",
    "    )\n",
    "    # Flattening is required as otherwise we would have [[...],[...],[...], ...]\n",
    "\n",
    "    return taylor"
   ]
  },
  {
   "cell_type": "code",
   "execution_count": 7,
   "metadata": {
    "ExecuteTime": {
     "end_time": "2023-09-16T22:40:35.690690800Z",
     "start_time": "2023-09-16T22:40:35.679547Z"
    }
   },
   "outputs": [
    {
     "name": "stdout",
     "output_type": "stream",
     "text": [
      "Success!\n"
     ]
    }
   ],
   "source": [
    "# Check the equivalence on randomly-initialized arrays\n",
    "\n",
    "v = 100 * np.random.rand(1)\n",
    "u = 100 * np.random.rand(1)\n",
    "\n",
    "chosen_sigma = 10\n",
    "\n",
    "kernel_val = gaussian_kernel(v, u, sigma=chosen_sigma)\n",
    "feature_map_val = gaussian_feature_map(v, sigma=chosen_sigma).dot(\n",
    "    gaussian_feature_map(u, sigma=chosen_sigma)\n",
    ")\n",
    "\n",
    "if np.allclose(kernel_val, feature_map_val):\n",
    "    print(\"Success!\")"
   ]
  }
 ],
 "metadata": {
  "colab": {
   "authorship_tag": "ABX9TyPkibvpTEMRILBn2/x8IuJj",
   "provenance": []
  },
  "kernelspec": {
   "display_name": "Python 3 (ipykernel)",
   "language": "python",
   "name": "python3"
  },
  "language_info": {
   "codemirror_mode": {
    "name": "ipython",
    "version": 3
   },
   "file_extension": ".py",
   "mimetype": "text/x-python",
   "name": "python",
   "nbconvert_exporter": "python",
   "pygments_lexer": "ipython3",
   "version": "3.10.9"
  }
 },
 "nbformat": 4,
 "nbformat_minor": 1
}
