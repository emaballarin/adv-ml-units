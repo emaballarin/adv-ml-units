{
 "cells": [
  {
   "cell_type": "markdown",
   "metadata": {},
   "source": [
    "# [Solved] Lab 5: **Invariance** and **Equivariance** at different layers of a *CNN*\n",
    "\n",
    "Advanced Topics in Machine Learning -- Fall 2023, UniTS\n",
    "\n",
    "<a target=\"_blank\" href=\"https://colab.research.google.com/github/ganselmif/adv-ml-units/blob/main/solutions/AdvML_UniTS_2023_Lab_05_CNN_Invariance_Equivariance_Solved.ipynb\"><img src=\"https://colab.research.google.com/assets/colab-badge.svg\" alt=\"Open in Colab\"/></a>"
   ]
  },
  {
   "cell_type": "markdown",
   "metadata": {},
   "source": [
    "#### Overview of the *Lab*\n",
    "\n",
    "In the following *Lab*, we will study the *invariance* and *equivariance* properties of specific layers within a *CNN*.\n",
    "\n",
    "Recall the definitions -- respectively -- of **invariance** and **equivariance** of (the result of) function $f$ with respect to transformation (expressed in the form of an operator) $P_{\\alpha}$ parametrized by $\\alpha$:\n",
    "\n",
    "- *Invariance*: $f(P_{\\alpha} x) = f(x)\\;\\;\\;\\; \\forall\\alpha$\n",
    "- *Equivariance*: $f(P_{\\alpha} x) = P_{\\alpha} f(x)\\;\\;\\;\\; \\forall\\alpha$\n",
    "\n",
    "According to theory, the training of a *CNN* with pooling should lead to a network whose:\n",
    "\n",
    "- *Convolutional* layers are *equivariant* to traslation;\n",
    "- *Fully Connected* layers are *invariant* to traslation.\n",
    "\n",
    "Due to the specific structure of convolutional layers, it is possible to show that the *equivariance* property gives rise to permuted activations in response to translation of inputs."
   ]
  },
  {
   "cell_type": "code",
   "execution_count": 1,
   "metadata": {
    "ExecuteTime": {
     "end_time": "2023-09-17T01:07:27.939407800Z",
     "start_time": "2023-09-17T01:07:26.199535700Z"
    }
   },
   "outputs": [],
   "source": [
    "from tqdm.auto import trange\n",
    "\n",
    "import torch as th\n",
    "import torch.nn as nn\n",
    "import torch.nn.functional as F\n",
    "\n",
    "from torch.utils.data import DataLoader\n",
    "\n",
    "from torchvision import datasets\n",
    "from torchvision import transforms\n",
    "\n",
    "import matplotlib.pyplot as plt"
   ]
  },
  {
   "cell_type": "markdown",
   "metadata": {},
   "source": [
    "The following *CNN* model is given, whose output -- for your convenience -- is a tuple, composed of the actual output of the network, the activation tensor after the second *convolutional* layer, and the activation tensor after the first *fully-connected* layer:"
   ]
  },
  {
   "cell_type": "code",
   "execution_count": 2,
   "metadata": {
    "ExecuteTime": {
     "end_time": "2023-09-17T01:07:27.943030200Z",
     "start_time": "2023-09-17T01:07:27.943030200Z"
    }
   },
   "outputs": [],
   "source": [
    "class Model(nn.Module):\n",
    "    def __init__(self):\n",
    "        super(Model, self).__init__()\n",
    "        self.conv1 = nn.Conv2d(1, 1, kernel_size=2)\n",
    "        self.fc1 = nn.Linear(729, 10)\n",
    "\n",
    "    def forward(self, x):\n",
    "        x = self.conv1(x)\n",
    "        conv2repr = x.clone().detach()\n",
    "        x = F.relu(x)\n",
    "        x = x.view(x.shape[0], -1)\n",
    "        x = self.fc1(x)\n",
    "        fc1repr = x.clone().detach()\n",
    "        x = F.log_softmax(x, dim=1)\n",
    "        return x, conv2repr, fc1repr"
   ]
  },
  {
   "cell_type": "markdown",
   "metadata": {},
   "source": [
    "Taking inspiration from previous *Labs*:\n",
    "\n",
    "1. Train the model on the (non-augmented) *MNIST* dataset;\n",
    "2. Prepare a test dataset composed of pairs of mutually traslated images;\n",
    "3. Extract the activations of layers `conv2` and `fc1` and check whether they respect the invariance/equivariance property.\n",
    "\n",
    "**Hint**: To test for *equivariance*, it may be useful to notice that **sorting** is invariant to permutations!"
   ]
  },
  {
   "cell_type": "markdown",
   "metadata": {},
   "source": [
    "#### Training of the model"
   ]
  },
  {
   "cell_type": "code",
   "execution_count": 3,
   "metadata": {
    "ExecuteTime": {
     "end_time": "2023-09-17T01:07:27.953188600Z",
     "start_time": "2023-09-17T01:07:27.943030200Z"
    }
   },
   "outputs": [],
   "source": [
    "# Hyperparameters\n",
    "BATCH_SIZE = 64\n",
    "EPOCHS = 7\n",
    "LEARNING_RATE = 0.01\n",
    "MOMENTUM = 0.0"
   ]
  },
  {
   "cell_type": "code",
   "execution_count": 4,
   "metadata": {
    "ExecuteTime": {
     "end_time": "2023-09-17T01:07:28.333604400Z",
     "start_time": "2023-09-17T01:07:27.953188600Z"
    }
   },
   "outputs": [],
   "source": [
    "# Data-sets/loaders definition\n",
    "augmentation = transforms.RandomAffine(0, translate=[0, 0.3], scale=None, shear=None)\n",
    "to_tensor = transforms.ToTensor()\n",
    "normalization = transforms.Normalize(mean=0.1307, std=0.3081)\n",
    "\n",
    "# Loading the datasets\n",
    "train_dataset = datasets.MNIST(\n",
    "    root=\"./data\",\n",
    "    train=True,\n",
    "    transform=transforms.Compose([to_tensor, normalization]),\n",
    "    download=True,\n",
    ")\n",
    "test_dataset = datasets.MNIST(\n",
    "    root=\"./data\",\n",
    "    train=False,\n",
    "    transform=transforms.Compose([to_tensor, normalization]),\n",
    "    download=True,\n",
    ")\n",
    "test_dataset_trsl = datasets.MNIST(\n",
    "    root=\"./data\",\n",
    "    train=False,\n",
    "    transform=transforms.Compose([to_tensor, normalization, augmentation]),\n",
    "    download=True,\n",
    ")\n",
    "\n",
    "train_loader = DataLoader(dataset=train_dataset, batch_size=BATCH_SIZE, shuffle=True)\n",
    "test_loader = DataLoader(dataset=test_dataset, batch_size=BATCH_SIZE, shuffle=False)\n",
    "test_loader_trsl = DataLoader(\n",
    "    dataset=test_dataset_trsl, batch_size=BATCH_SIZE, shuffle=False\n",
    ")"
   ]
  },
  {
   "cell_type": "code",
   "execution_count": 5,
   "metadata": {
    "ExecuteTime": {
     "end_time": "2023-09-17T01:07:29.899674300Z",
     "start_time": "2023-09-17T01:07:28.333604400Z"
    }
   },
   "outputs": [
    {
     "name": "stdout",
     "output_type": "stream",
     "text": [
      "Using device: cuda\n"
     ]
    }
   ],
   "source": [
    "# Model instantiation\n",
    "model = Model()\n",
    "\n",
    "# Device selection\n",
    "device = th.device(\"cuda\" if th.cuda.is_available() else \"cpu\")\n",
    "model = model.to(device)\n",
    "print(f\"Using device: {device}\")\n",
    "\n",
    "optimizer = th.optim.SGD(model.parameters(), lr=LEARNING_RATE, momentum=MOMENTUM)\n",
    "\n",
    "criterion = nn.NLLLoss()"
   ]
  },
  {
   "cell_type": "code",
   "execution_count": 6,
   "metadata": {
    "ExecuteTime": {
     "end_time": "2023-09-17T01:07:29.899674300Z",
     "start_time": "2023-09-17T01:07:29.883234200Z"
    }
   },
   "outputs": [],
   "source": [
    "# Some useful functions\n",
    "def get_batch_accuracy(logit, target):\n",
    "    corrects = (th.max(logit, 1)[1].view(target.size()).data == target.data).sum()\n",
    "    accuracy = 100.0 * corrects / target.size(0)\n",
    "    return accuracy.item()\n",
    "\n",
    "\n",
    "def get_test_stats(model, criterion, test_loader, device):\n",
    "    test_acc, test_loss = 0.0, 0.0\n",
    "    for i, (images, labels) in enumerate(test_loader):\n",
    "        images = images.to(device)\n",
    "        labels = labels.to(device)\n",
    "        outputs, _, _ = model(images)\n",
    "        test_loss += criterion(outputs, labels).item()\n",
    "        test_acc += get_batch_accuracy(outputs, labels)\n",
    "        return test_loss, test_acc"
   ]
  },
  {
   "cell_type": "code",
   "execution_count": 7,
   "metadata": {
    "ExecuteTime": {
     "end_time": "2023-09-17T01:07:32.383241300Z",
     "start_time": "2023-09-17T01:07:29.883234200Z"
    }
   },
   "outputs": [],
   "source": [
    "model = model.eval()\n",
    "untrained_loss, untrained_acc = get_test_stats(model, criterion, test_loader, device)\n",
    "model = model.train()"
   ]
  },
  {
   "cell_type": "code",
   "execution_count": 8,
   "metadata": {
    "ExecuteTime": {
     "end_time": "2023-09-17T01:08:31.088382600Z",
     "start_time": "2023-09-17T01:07:32.383241300Z"
    }
   },
   "outputs": [
    {
     "data": {
      "text/plain": "  0%|          | 0/7 [00:00<?, ?it/s]",
      "application/vnd.jupyter.widget-view+json": {
       "version_major": 2,
       "version_minor": 0,
       "model_id": "f1e73b2e86a44bd4b13dbbc2960dd6f3"
      }
     },
     "metadata": {},
     "output_type": "display_data"
    }
   ],
   "source": [
    "# Training loop\n",
    "\n",
    "batch_losses = []\n",
    "\n",
    "for epoch in trange(EPOCHS):\n",
    "    model = model.train()\n",
    "\n",
    "    # Actual (batch-wise) training step\n",
    "    for i, (images, labels) in enumerate(train_loader):\n",
    "        images = images.to(device)\n",
    "        labels = labels.to(device)\n",
    "\n",
    "        logits, _, _ = model(images)\n",
    "        loss = criterion(logits, labels)\n",
    "\n",
    "        batch_losses.append(loss.item())  # Store the loss for plotting, per batch\n",
    "\n",
    "        optimizer.zero_grad()\n",
    "        loss.backward()\n",
    "        optimizer.step()"
   ]
  },
  {
   "cell_type": "code",
   "execution_count": 9,
   "metadata": {
    "ExecuteTime": {
     "end_time": "2023-09-17T01:08:31.109373400Z",
     "start_time": "2023-09-17T01:08:31.090383300Z"
    }
   },
   "outputs": [],
   "source": [
    "model.eval()\n",
    "trained_loss, trained_acc = get_test_stats(model, criterion, test_loader, device)"
   ]
  },
  {
   "cell_type": "code",
   "execution_count": 10,
   "metadata": {
    "ExecuteTime": {
     "end_time": "2023-09-17T01:08:31.327770900Z",
     "start_time": "2023-09-17T01:08:31.109373400Z"
    }
   },
   "outputs": [
    {
     "data": {
      "text/plain": "<Figure size 640x480 with 1 Axes>",
      "image/png": "[encoded data removed]"
     },
     "metadata": {},
     "output_type": "display_data"
    }
   ],
   "source": [
    "# Plot losses\n",
    "xrange = range(len(batch_losses))\n",
    "_ = plt.plot(xrange, batch_losses)\n",
    "_ = plt.scatter((xrange[0], xrange[-1]), (untrained_loss, trained_loss), color=\"red\")\n",
    "_ = plt.legend([\"Train Loss (batch)\", \"Test Loss (dataset)\"], loc=\"upper right\")\n",
    "_ = plt.xlabel(\"Number of batches seen\")\n",
    "_ = plt.ylabel(\"NLL Loss\")"
   ]
  },
  {
   "cell_type": "markdown",
   "metadata": {},
   "source": [
    "#### Invariance and Equivariance tests"
   ]
  },
  {
   "cell_type": "code",
   "execution_count": 11,
   "metadata": {
    "ExecuteTime": {
     "end_time": "2023-09-17T01:08:36.525994400Z",
     "start_time": "2023-09-17T01:08:31.333415500Z"
    }
   },
   "outputs": [
    {
     "name": "stdout",
     "output_type": "stream",
     "text": [
      "Average Euclidean norm of the difference (invariance): 21.411191940307617\n",
      "Average Euclidean norm of the difference (equivariance): 21.049400329589844\n",
      "Average Euclidean norm of the difference (invariance, control): 21.470659255981445\n",
      "Average Euclidean norm of the difference (equivariance, control): 21.232614517211914\n"
     ]
    }
   ],
   "source": [
    "differences_inv = []\n",
    "differences_eqv = []\n",
    "differences_inv_control = []\n",
    "differences_eqv_control = []\n",
    "\n",
    "control_img = None\n",
    "\n",
    "model.eval()\n",
    "\n",
    "for i, (images, label) in enumerate(test_loader):\n",
    "    # The order is the same due to the fact that both dataloaders are not shuffled!\n",
    "    (images_trsl, label_trsl) = test_loader_trsl.__iter__().__next__()\n",
    "\n",
    "    if i == 0:\n",
    "        control_img = th.randn_like(images).to(device)\n",
    "\n",
    "    # When the non-augmented dataset is over, the rest of the batch is eventually filled with augmentations\n",
    "    # This check (and fix) avoids dimension mismatches\n",
    "    if images.shape[0] != images_trsl.shape[0]:\n",
    "        images_trsl = images_trsl[: images.shape[0]]\n",
    "        control_img = control_img[: images.shape[0]]\n",
    "\n",
    "    images, images_trsl = images.to(device), images_trsl.to(device)\n",
    "\n",
    "    _, act_eqv, act_inv = model(images)\n",
    "    _, act_eqv_trsl, act_inv_trsl = model(images_trsl)\n",
    "    _, act_eqv_control, act_inv_control = model(control_img)\n",
    "\n",
    "    act_eqv, _ = th.sort(act_eqv.reshape(act_inv.shape[0], -1), dim=1)\n",
    "    act_eqv_trsl, _ = th.sort(\n",
    "        act_eqv_trsl.reshape(act_inv.shape[0], -1),\n",
    "        dim=1,\n",
    "    )\n",
    "    act_eqv_control, _ = th.sort(\n",
    "        act_eqv_control.reshape(act_inv.shape[0], -1),\n",
    "        dim=1,\n",
    "    )\n",
    "\n",
    "    differences_inv.append(act_inv - act_inv_trsl)\n",
    "    differences_eqv.append(act_eqv - act_eqv_trsl)\n",
    "    differences_inv_control.append(act_inv - act_inv_control)\n",
    "    differences_eqv_control.append(act_eqv - act_eqv_control)\n",
    "\n",
    "    control_img = images_trsl\n",
    "\n",
    "avg_norm_inv = th.linalg.norm(th.cat(differences_inv, dim=0), dim=1).mean()\n",
    "avg_norm_eqv = th.linalg.norm(th.cat(differences_eqv, dim=0), dim=1).mean()\n",
    "avg_norm_inv_control = th.linalg.norm(\n",
    "    th.cat(differences_inv_control, dim=0), dim=1\n",
    ").mean()\n",
    "avg_norm_eqv_control = th.linalg.norm(\n",
    "    th.cat(differences_eqv_control, dim=0), dim=1\n",
    ").mean()\n",
    "\n",
    "print(f\"Average Euclidean norm of the difference (invariance): {avg_norm_inv.item()}\")\n",
    "print(f\"Average Euclidean norm of the difference (equivariance): {avg_norm_eqv.item()}\")\n",
    "print(\n",
    "    f\"Average Euclidean norm of the difference (invariance, control): {avg_norm_inv_control.item()}\"\n",
    ")\n",
    "print(\n",
    "    f\"Average Euclidean norm of the difference (equivariance, control): {avg_norm_eqv_control.item()}\"\n",
    ")"
   ]
  }
 ],
 "metadata": {
  "colab": {
   "authorship_tag": "ABX9TyPkibvpTEMRILBn2/x8IuJj",
   "provenance": []
  },
  "kernelspec": {
   "display_name": "Python 3 (ipykernel)",
   "language": "python",
   "name": "python3"
  },
  "language_info": {
   "codemirror_mode": {
    "name": "ipython",
    "version": 3
   },
   "file_extension": ".py",
   "mimetype": "text/x-python",
   "name": "python",
   "nbconvert_exporter": "python",
   "pygments_lexer": "ipython3",
   "version": "3.10.9"
  }
 },
 "nbformat": 4,
 "nbformat_minor": 4
}
