{
 "cells": [
  {
   "cell_type": "markdown",
   "metadata": {},
   "source": [
    "# [Solved] Lab 8: **Implicit bias** of gradient descent: the case of *linear regression*\n",
    "\n",
    "Advanced Topics in Machine Learning -- Fall 2023, UniTS\n",
    "\n",
    "<a target=\"_blank\" href=\"https://colab.research.google.com/github/ganselmif/adv-ml-units/blob/main/solutions/AdvML_UniTS_2023_Lab_08_Implicit_Bias_Solved.ipynb\"><img src=\"https://colab.research.google.com/assets/colab-badge.svg\" alt=\"Open in Colab\"/></a>"
   ]
  },
  {
   "cell_type": "markdown",
   "metadata": {},
   "source": [
    "#### Overview of the *Lab*\n",
    "\n",
    "In this lab, we will study the *implicit bias* induced by *Gradient Descent* optimization in the simple case of *linear regression*, fitted on a *toy* dataset. In particular, we will show that *GD*-optimized weights converge to the **least norm** solution of the *linear regression* problem.\n",
    "\n",
    "An analysis of implicit bias induced by *Stochastic Gradient Descent* in *full-width linear fully-connected* and *full-width linear convolutional* neural networks (which are much more complex and expressive models!) is provided in [this paper](https://arxiv.org/abs/1806.00468).\n"
   ]
  },
  {
   "cell_type": "markdown",
   "source": [
    "#### Linear regression\n",
    "\n",
    "In the case of **linear regression**, fitted by means of *least squares*, we optimize the following loss function:\n",
    "$$\n",
    "L=\\|y-Xw\\|_{2}^{2}\n",
    "$$.\n",
    "\n",
    "If we choose the *GD* optimization algorithm, we perform weight updates proportional to the gradient of the loss function:\n",
    "$$\n",
    "\\nabla_{w} L = -X(y-Xw)\n",
    "$$.\n",
    "\n",
    "Additionally, notice that the **least norm** solution of the *linear regression* problem is given by:\n",
    "$$\n",
    "w^{*}=(X^{T}X)^{-1}X^{T}y\n",
    "$$.\n"
   ],
   "metadata": {
    "collapsed": false
   }
  },
  {
   "cell_type": "code",
   "execution_count": 1,
   "outputs": [],
   "source": [
    "import numpy as np\n",
    "import matplotlib.pyplot as plt"
   ],
   "metadata": {
    "collapsed": false,
    "ExecuteTime": {
     "end_time": "2023-09-17T01:16:45.788352200Z",
     "start_time": "2023-09-17T01:16:45.494480700Z"
    }
   }
  },
  {
   "cell_type": "markdown",
   "source": [
    "#### To-do:\n",
    "\n",
    "The following *toy* dataset is provided:"
   ],
   "metadata": {
    "collapsed": false
   }
  },
  {
   "cell_type": "code",
   "execution_count": 2,
   "outputs": [],
   "source": [
    "m, n = 1000, 10\n",
    "X = np.random.normal(0, 1, (m, n))\n",
    "b = X.dot(np.random.normal(0, 1, n))"
   ],
   "metadata": {
    "collapsed": false,
    "ExecuteTime": {
     "end_time": "2023-09-17T01:16:45.798408700Z",
     "start_time": "2023-09-17T01:16:45.793390400Z"
    }
   }
  },
  {
   "cell_type": "markdown",
   "source": [
    "1. Compute the *least norm* solution of the linear regression problem;\n",
    "2. Write a function that computes the gradient of the loss function, as required by *GD* optimization;\n",
    "3. Perform *GD* optimization of the linear regression problem iteratively, storing the weights at each iteration;\n",
    "4. Plot the evolution of the weights during *GD* optimization and comment.\n"
   ],
   "metadata": {
    "collapsed": false
   }
  },
  {
   "cell_type": "code",
   "execution_count": 3,
   "outputs": [],
   "source": [
    "def least_norm_reg(_x, _b, _eps):\n",
    "    # The regularizer `eps` allows to make the matrix invertible!\n",
    "    return np.linalg.inv(_x.T.dot(_x) + _eps * np.eye(n)).dot(_x.T).dot(_b)"
   ],
   "metadata": {
    "collapsed": false,
    "ExecuteTime": {
     "end_time": "2023-09-17T01:16:45.798408700Z",
     "start_time": "2023-09-17T01:16:45.798408700Z"
    }
   }
  },
  {
   "cell_type": "code",
   "execution_count": 4,
   "outputs": [],
   "source": [
    "def least_squares_reg_gradient(_x, _b, _w, _m):\n",
    "    return _x.T.dot(_x.dot(_w) - _b) / _m"
   ],
   "metadata": {
    "collapsed": false,
    "ExecuteTime": {
     "end_time": "2023-09-17T01:16:45.808562700Z",
     "start_time": "2023-09-17T01:16:45.798408700Z"
    }
   }
  },
  {
   "cell_type": "code",
   "execution_count": 5,
   "outputs": [],
   "source": [
    "def run_gd(steps, init_w, grad_fx):\n",
    "    ws = [init_w]\n",
    "    for step in steps:\n",
    "        ws.append(ws[-1] - step * grad_fx(ws[-1]))\n",
    "    return ws"
   ],
   "metadata": {
    "collapsed": false,
    "ExecuteTime": {
     "end_time": "2023-09-17T01:16:45.837750100Z",
     "start_time": "2023-09-17T01:16:45.808562700Z"
    }
   }
  },
  {
   "cell_type": "code",
   "execution_count": 6,
   "outputs": [
    {
     "data": {
      "text/plain": "<Figure size 640x480 with 1 Axes>",
      "image/png": "[encoded data removed]"
     },
     "metadata": {},
     "output_type": "display_data"
    }
   ],
   "source": [
    "# Least norm solution\n",
    "w_opt = least_norm_reg(X, b, 1e-6)\n",
    "\n",
    "# Initialize weights to 0\n",
    "w0 = np.zeros(n)\n",
    "\n",
    "# Run GD for 100 steps\n",
    "grad_w = lambda _w: least_squares_reg_gradient(X, b, _w, m)\n",
    "wslist = run_gd([0.1] * 50, w0, grad_w)\n",
    "\n",
    "# Plot\n",
    "_ = plt.plot(\n",
    "    range(len(wslist)),\n",
    "    [np.linalg.norm(w_opt - w) ** 2 for w in wslist],\n",
    "    label=\"$|\\!|w_{\\mathrm{opt}}-w_{t}|\\!|^2$\",\n",
    ")\n",
    "_ = plt.legend()"
   ],
   "metadata": {
    "collapsed": false,
    "ExecuteTime": {
     "end_time": "2023-09-17T01:16:46.039825300Z",
     "start_time": "2023-09-17T01:16:45.818471400Z"
    }
   }
  }
 ],
 "metadata": {
  "colab": {
   "authorship_tag": "ABX9TyPkibvpTEMRILBn2/x8IuJj",
   "provenance": []
  },
  "kernelspec": {
   "display_name": "Python 3 (ipykernel)",
   "language": "python",
   "name": "python3"
  },
  "language_info": {
   "codemirror_mode": {
    "name": "ipython",
    "version": 3
   },
   "file_extension": ".py",
   "mimetype": "text/x-python",
   "name": "python",
   "nbconvert_exporter": "python",
   "pygments_lexer": "ipython3",
   "version": "3.10.9"
  }
 },
 "nbformat": 4,
 "nbformat_minor": 1
}
