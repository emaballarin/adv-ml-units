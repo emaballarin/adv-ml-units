{
 "cells": [
  {
   "attachments": {},
   "cell_type": "markdown",
   "metadata": {},
   "source": [
    "# *Challenge 2*: *Discovering **Symmetries** in Data*\n",
    "\n",
    "Advanced Topics in Machine Learning -- Fall 2023, UniTS\n",
    "\n",
    "<a target=\"_blank\" href=\"https://colab.research.google.com/github/ganselmif/adv-ml-units/blob/main/notebooks/AdvML_Challenge_2.ipynb\"><img src=\"https://colab.research.google.com/assets/colab-badge.svg\" alt=\"Open in Colab\"/></a>"
   ]
  },
  {
   "attachments": {},
   "cell_type": "markdown",
   "metadata": {},
   "source": [
    "Generate a dataset composed by rotations of 2-dimensional vectors *w.r.t.* a finite subgroup of the rotation group (*e.g.* every 3-4 degrees). Shuffle the dataset.  \n",
    "Generate the labels according to the orbits.  \n",
    "\n",
    "Implement a *NN* with one *FC* layer and `ReLU` to classify the orbits elements according to the label.  \n",
    "\n",
    "Write a Loss that contains 3 terms:\n",
    "- The regularization term as explained in class using [*soft-sort*](https://github.com/google-research/fast-soft-sort) on rows and columns of the Gramian of the first layer weights;\n",
    "- The cross entropy entropy with orbit labels;\n",
    "- The norm of the commutator between the covariance matrix of the data and that of the weights, as explained in class.  \n",
    "\n",
    "We are encouraged to come up with other constraints instead of *1* and especially *3*.  \n",
    "\n",
    "Test the invariance of the representation and plot the Gramian of the learned weights. Which type of matrix should you see?  "
   ]
  }
 ],
 "metadata": {
  "kernelspec": {
   "display_name": "Python 3",
   "language": "python",
   "name": "python3"
  },
  "language_info": {
   "name": "python",
   "version": "3.10.8"
  },
  "orig_nbformat": 4
 },
 "nbformat": 4,
 "nbformat_minor": 2
}
