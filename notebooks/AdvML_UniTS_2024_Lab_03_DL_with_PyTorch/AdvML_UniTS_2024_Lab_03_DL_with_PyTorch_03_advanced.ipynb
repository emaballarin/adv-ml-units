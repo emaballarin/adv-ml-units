{
 "cells": [
  {
   "cell_type": "markdown",
   "metadata": {
    "collapsed": false
   },
   "source": [
    "# Lab 3.3 | A *whirlwind tour* of `PyTorch`: ***advanced*/*on-demand* topics**\n",
    "\n",
    "Advanced Topics in Machine Learning -- Fall 2024, UniTS\n",
    "\n",
    "<a target=\"_blank\" href=\"https://colab.research.google.com/github/ganselmif/adv-ml-units/blob/main/notebooks/AdvML_UniTS_2024_Lab_03_DL_with_PyTorch/AdvML_UniTS_2024_Lab_03_DL_with_PyTorch_03_advanced.ipynb\"><img src=\"https://colab.research.google.com/assets/colab-badge.svg\" alt=\"Open in Colab\"/></a>"
   ]
  },
  {
   "cell_type": "markdown",
   "metadata": {
    "collapsed": false
   },
   "source": [
    "**NOTE:** This notebook is the same as the *solved* version."
   ]
  },
  {
   "cell_type": "markdown",
   "metadata": {},
   "source": [
    "If we managed to reach this far into the *tutorial* (on time), we went pretty fast! 👏🏻  \n",
    "\n",
    "What's next: you tell me!  \n",
    "\n",
    "- Questions?\n",
    "\n",
    "- Doubts? Existential doubts?\n",
    "\n",
    "- (One of my all-time favourites: *fancy* optimisers / LR scheduler?)"
   ]
  },
  {
   "cell_type": "code",
   "execution_count": 1,
   "metadata": {},
   "outputs": [],
   "source": [
    "# We will need to live-code it, though..."
   ]
  }
 ],
 "metadata": {
  "colab": {
   "authorship_tag": "ABX9TyPkibvpTEMRILBn2/x8IuJj",
   "provenance": []
  },
  "kernelspec": {
   "display_name": "Python 3 (ipykernel)",
   "language": "python",
   "name": "python3"
  },
  "language_info": {
   "codemirror_mode": {
    "name": "ipython",
    "version": 3
   },
   "file_extension": ".py",
   "mimetype": "text/x-python",
   "name": "python",
   "nbconvert_exporter": "python",
   "pygments_lexer": "ipython3",
   "version": "3.10.12"
  }
 },
 "nbformat": 4,
 "nbformat_minor": 0
}
