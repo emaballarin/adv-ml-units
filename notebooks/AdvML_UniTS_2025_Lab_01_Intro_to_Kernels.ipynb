{
    "cells": [
        {
            "cell_type": "markdown",
            "metadata": {},
            "source": [
                "# Lab 1: **Kernels** and **features**\n",
                "\n",
                "Advanced Topics in Machine Learning -- Fall 2025, UniTS\n",
                "\n",
                "<a target=\"_blank\" href=\"https://colab.research.google.com/github/ganselmif/adv-ml-units/blob/main/notebooks/AdvML_UniTS_2025_Lab_01_Intro_to_Kernels.ipynb\"><img src=\"https://colab.research.google.com/assets/colab-badge.svg\" alt=\"Open in Colab\"/></a>"
            ]
        },
        {
            "cell_type": "markdown",
            "metadata": {},
            "source": [
                "### Empirical verification of the *Kernel* $\\leftrightarrow$ *feature expansion* equivalence\n",
                "\n",
                "Recall the definition of a *kernel*:\n",
                "> Let $\\mathcal{X}$ be a non-empty set. A function $k: \\mathcal{X} \\times \\mathcal{X} \\rightarrow \\mathbb{R}$ is called a *kernel* if there exists a real-Hilbert space $\\mathcal{H}$ and a map $\\phi: \\mathcal{X} \\rightarrow \\mathcal{H}$ such that $\\forall x, x^\\prime \\in \\mathcal{X}$, $k(x, x^\\prime) := \\langle \\phi(x) , \\phi(x^\\prime) \\rangle_{\\mathcal{H}}$.\n",
                "\n",
                "To motivate the usefulness of kernelized ML methods, we can show that -- for $x\\in\\mathbb{R}^{d \\in \\mathbb{N}}$ -- the computation of $k(x, x^\\prime)$ in kernel form is equivalent to the explicit scalar product $\\langle \\varphi(x) , \\varphi(x^\\prime) \\rangle = \\varphi(x)^{T} \\varphi(x^\\prime)$ of some corresponding expanded feature maps $\\varphi: {R}^{d} \\rightarrow \\mathbb{R}^{d^\\prime}$ with generally $d^\\prime \\gg d$ (or even *infinite-dimensional* $\\varphi$s), though significantly simpler and more efficient to compute.\n",
                "\n",
                "In the lab that follows, verify such equivalence for simple kernels: the non-uniform *quadratic* (in $\\mathbb{R}^{d}$) and the *Gaussian* (in $\\mathbb{R}$).\n",
                "\n",
                "For each kernel:\n",
                "\n",
                "1. Implement a function that computes the kernel between two arrays of coordinates;\n",
                "2. Derive the explicit feature map $\\varphi(x)$ corresponding to that kernel;\n",
                "3. Implement a function that computes such feature map for a given array of coordinates;\n",
                "4. Verify that the kernel computed by (1) and the scalar product of its arguments through (3) are indeed equivalent.\n",
                "\n",
                "**Hint**: in case of need, you can finitely approximate the feature map by Taylor expansion.\n"
            ]
        },
        {
            "cell_type": "code",
            "execution_count": null,
            "metadata": {},
            "outputs": [],
            "source": [
                "def nu_quadratic_kernel(x, x_prime):\n",
                "    \"\"\"Compute the non-uniform quadratic kernel between two arrays of coordinates.\n",
                "\n",
                "    Parameters\n",
                "    ----------\n",
                "    x : array-like, shape: (n_features)\n",
                "        First array of coordinates.\n",
                "    x_prime : array-like, shape: (n_features)\n",
                "        Second array of coordinates.\n",
                "\n",
                "    Returns\n",
                "    -------\n",
                "    k : array-like, shape: (1)\n",
                "        Kernel value.\n",
                "    \"\"\"\n",
                "    # YOUR CODE HERE\n",
                "    raise NotImplementedError()"
            ]
        },
        {
            "cell_type": "code",
            "execution_count": null,
            "metadata": {},
            "outputs": [],
            "source": [
                "def nu_quadratic_feature_map(x):\n",
                "    \"\"\"Compute the feature map corresponding to the non-uniform quadratic kernel.\n",
                "\n",
                "    Parameters\n",
                "    ----------\n",
                "    x : array-like, shape: (n_features)\n",
                "        Array of coordinates.\n",
                "\n",
                "    Returns\n",
                "    -------\n",
                "    phi_x : array-like, shape: (n_features)\n",
                "        Feature map.\n",
                "    \"\"\"\n",
                "    # YOUR CODE HERE\n",
                "    raise NotImplementedError()"
            ]
        },
        {
            "cell_type": "code",
            "execution_count": null,
            "metadata": {},
            "outputs": [],
            "source": [
                "# Check that the two functions are equivalent on a randomly-initialized array\n",
                "# YOUR CODE HERE"
            ]
        },
        {
            "cell_type": "code",
            "execution_count": null,
            "metadata": {},
            "outputs": [],
            "source": [
                "def gaussian_kernel(x, x_prime, sigma):\n",
                "    \"\"\"Compute the Gaussian kernel between two arrays of coordinates.\n",
                "\n",
                "    Parameters\n",
                "    ----------\n",
                "    x : array-like, shape: (n_features)\n",
                "        First array of coordinates.\n",
                "    x_prime : array-like, shape: (n_features)\n",
                "        Second array of coordinates.\n",
                "    sigma : float\n",
                "        Kernel standard deviation.\n",
                "\n",
                "    Returns\n",
                "    -------\n",
                "    k : array-like, shape: (1)\n",
                "        Kernel value.\n",
                "    \"\"\"\n",
                "    # YOUR CODE HERE\n",
                "    raise NotImplementedError()"
            ]
        },
        {
            "cell_type": "code",
            "execution_count": null,
            "metadata": {},
            "outputs": [],
            "source": [
                "def gaussian_feature_map(x, sigma):\n",
                "    \"\"\"Compute the feature map corresponding to the Gaussian kernel.\n",
                "\n",
                "    Parameters\n",
                "    ----------\n",
                "    x : array-like, shape: (n_features)\n",
                "        Array of coordinates.\n",
                "    sigma : float\n",
                "        Kernel standard deviation.\n",
                "\n",
                "    Returns\n",
                "    -------\n",
                "    phi_x : array-like, shape: (n_features)\n",
                "        Feature map.\n",
                "    \"\"\"\n",
                "    # YOUR CODE HERE\n",
                "    raise NotImplementedError()"
            ]
        },
        {
            "cell_type": "code",
            "execution_count": 1,
            "metadata": {},
            "outputs": [],
            "source": [
                "# Check the equivalence on randomly-initialized arrays\n",
                "# YOUR CODE HERE"
            ]
        }
    ],
    "metadata": {
        "colab": {
            "authorship_tag": "ABX9TyPkibvpTEMRILBn2/x8IuJj",
            "provenance": []
        },
        "kernelspec": {
            "display_name": "Python 3 (ipykernel)",
            "language": "python",
            "name": "python3"
        },
        "language_info": {
            "codemirror_mode": {
                "name": "ipython",
                "version": 3
            },
            "file_extension": ".py",
            "mimetype": "text/x-python",
            "name": "python",
            "nbconvert_exporter": "python",
            "pygments_lexer": "ipython3",
            "version": "3.10.9"
        }
    },
    "nbformat": 4,
    "nbformat_minor": 1
}
